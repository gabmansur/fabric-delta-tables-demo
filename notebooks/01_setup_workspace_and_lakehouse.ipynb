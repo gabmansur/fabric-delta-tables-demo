{
 "cells": [
  {
   "cell_type": "code",
   "execution_count": null,
   "id": "dc022676",
   "metadata": {
    "vscode": {
     "languageId": "plaintext"
    }
   },
   "outputs": [],
   "source": [
    "from pyspark.sql import functions as F\n",
    "\n",
    "lakehouse_path = \"/lakehouse/default\"  # if using the default attached lakehouse\n",
    "files_path     = f\"{lakehouse_path}/Files\"\n",
    "bronze_path    = f\"{files_path}/bronze\"\n",
    "silver_db      = \"silver\"    # database-like namespace for Delta tables\n",
    "gold_db        = \"gold\"\n",
    "\n",
    "spark.sql(f\"CREATE DATABASE IF NOT EXISTS {silver_db}\")\n",
    "spark.sql(f\"CREATE DATABASE IF NOT EXISTS {gold_db}\")\n",
    "\n",
    "print(\"Lakehouse set. Files:\", files_path)"
   ]
  },
  {
   "cell_type": "code",
   "execution_count": null,
   "id": "50475696",
   "metadata": {
    "vscode": {
     "languageId": "plaintext"
    }
   },
   "outputs": [],
   "source": [
    "# quick listing\n",
    "display(dbutils.fs.ls(bronze_path))"
   ]
  },
  {
   "cell_type": "code",
   "execution_count": null,
   "id": "4fe6a419",
   "metadata": {
    "vscode": {
     "languageId": "plaintext"
    }
   },
   "outputs": [],
   "source": [
    "# helper: safe table drop\n",
    "def drop_table_if_exists(tbl):\n",
    "    spark.sql(f\"DROP TABLE IF EXISTS {tbl}\")\n",
    "    print(f\"Dropped (if existed): {tbl}\")\n",
    "\n",
    "drop_table_if_exists(f\"{silver_db}.customers\")\n",
    "drop_table_if_exists(f\"{silver_db}.transactions\")\n",
    "drop_table_if_exists(f\"{silver_db}.customers_scd2\")\n"
   ]
  }
 ],
 "metadata": {
  "language_info": {
   "name": "python"
  }
 },
 "nbformat": 4,
 "nbformat_minor": 5
}
